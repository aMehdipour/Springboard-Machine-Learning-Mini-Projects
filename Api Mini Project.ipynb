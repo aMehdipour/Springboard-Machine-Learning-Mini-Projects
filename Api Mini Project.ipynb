{
 "cells": [
  {
   "cell_type": "code",
   "execution_count": 1,
   "id": "e4ab34df",
   "metadata": {},
   "outputs": [],
   "source": [
    "import requests as rq\n",
    "import json\n",
    "import statistics as stats\n",
    "\n",
    "API_KEY = 'SsUPgd_xRSNFaPc4p1do'\n",
    "\n",
    "response = rq.get(\n",
    "    \"https://www.quandl.com/api/v3/datasets/XFRA/SE7.json?api_key=\" + API_KEY)\n",
    "\n"
   ]
  },
  {
   "cell_type": "code",
   "execution_count": 2,
   "id": "cb40d887",
   "metadata": {},
   "outputs": [],
   "source": [
    "#Change the data to an organized string to understand the structure, then save it as a Python dictionary.\n",
    "\n",
    "stockList = json.dumps(response.json(), indent=2, separators=(',',':'))\n",
    "\n",
    "stockListDict = json.loads(stockList)"
   ]
  },
  {
   "cell_type": "code",
   "execution_count": 3,
   "id": "cdcafb4f",
   "metadata": {},
   "outputs": [],
   "source": [
    "#Use the correct keys to access the data, then save the data out to separate variables of interest.\n",
    "\n",
    "stockData = stockListDict['dataset']['data']\n",
    "\n",
    "dates = [row[0] for row in stockData]\n",
    "\n",
    "openPrice = [row[1] for row in stockData]\n",
    "\n",
    "highPrice = [row[2] for row in stockData]\n",
    "\n",
    "lowPrice = [row[3] for row in stockData]\n",
    "\n",
    "closePrice = [row[4] for row in stockData]\n",
    "\n",
    "tradeVolume = [row[5] for row in stockData]"
   ]
  },
  {
   "cell_type": "code",
   "execution_count": 4,
   "id": "37670f86",
   "metadata": {},
   "outputs": [],
   "source": [
    "#Calculate stuff\n",
    "\n",
    "highOpenPrice = max(openPrice)\n",
    "\n",
    "lowOpenPrice = min(openPrice)\n",
    "\n",
    "oneDayDelta = []\n",
    "\n",
    "for i in range(len(highPrice)-1):\n",
    "    oneDayDelta.append(highPrice[i] - lowPrice[i])\n",
    "\n",
    "maxOneDayDelta = max(oneDayDelta)\n",
    "\n",
    "twoDayDelta = []\n",
    "\n",
    "for i in range(len(closePrice)-2):\n",
    "    twoDayDelta.append(closePrice[i+1]-closePrice[i])\n",
    "\n",
    "maxTwoDayDelta = max(twoDayDelta)\n",
    "\n",
    "aveVolume = stats.mean(tradeVolume)\n",
    "\n",
    "medianVolume = stats.median(tradeVolume)"
   ]
  },
  {
   "cell_type": "code",
   "execution_count": 5,
   "id": "37b4960f",
   "metadata": {},
   "outputs": [
    {
     "name": "stdout",
     "output_type": "stream",
     "text": [
      "The highest opening price is $19.155347\n",
      "The lowest opening price is $1.58761\n",
      "The largest change in price in one day is $1.5860230000000008\n",
      "The largest change in closing price between two consecutive days is $1.5662550000000017\n",
      "The average trade volume is 108.15020907044065\n",
      "The median trade volume is 0.0\n"
     ]
    }
   ],
   "source": [
    "#Print answers\n",
    "\n",
    "print(f'The highest opening price is ${highOpenPrice}')\n",
    "\n",
    "print(f'The lowest opening price is ${lowOpenPrice}')\n",
    "\n",
    "print(f'The largest change in price in one day is ${maxOneDayDelta}')\n",
    "\n",
    "print(f'The largest change in closing price between two consecutive days is ${maxTwoDayDelta}')\n",
    "\n",
    "print(f'The average trade volume is {aveVolume}')\n",
    "\n",
    "print(f'The median trade volume is {medianVolume}')"
   ]
  },
  {
   "cell_type": "code",
   "execution_count": null,
   "id": "3a0fb732",
   "metadata": {},
   "outputs": [],
   "source": []
  }
 ],
 "metadata": {
  "kernelspec": {
   "display_name": "Python 3",
   "language": "python",
   "name": "python3"
  },
  "language_info": {
   "codemirror_mode": {
    "name": "ipython",
    "version": 3
   },
   "file_extension": ".py",
   "mimetype": "text/x-python",
   "name": "python",
   "nbconvert_exporter": "python",
   "pygments_lexer": "ipython3",
   "version": "3.8.3"
  }
 },
 "nbformat": 4,
 "nbformat_minor": 5
}
